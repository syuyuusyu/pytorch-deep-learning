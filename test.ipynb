{
 "cells": [
  {
   "cell_type": "code",
   "execution_count": 2,
   "metadata": {},
   "outputs": [
    {
     "name": "stdout",
     "output_type": "stream",
     "text": [
      "60000\n",
      "2\n"
     ]
    }
   ],
   "source": [
    "import torch\n",
    "from torch import nn \n",
    "import torchvision \n",
    "from  torchvision import datasets\n",
    "from torchvision.transforms import ToTensor\n",
    "from torch.utils.data import DataLoader,TensorDataset\n",
    "\n",
    "import matplotlib.pyplot as plt \n",
    "import icecream as ic\n",
    "\n",
    "train_data = datasets.FashionMNIST(root='FashionMNIST_data',train=True,download=True,transform=ToTensor(),target_transform=None)\n",
    "test_data = datasets.FashionMNIST(root='FashionMNIST_data',train=False,download=True,transform=ToTensor())\n",
    "\n",
    "print(len(train_data))\n",
    "\n",
    "kknd = []\n",
    "kknd.append((1,2,3))\n",
    "print(kknd[0][1])\n",
    "\n"
   ]
  }
 ],
 "metadata": {
  "kernelspec": {
   "display_name": "Python 3",
   "language": "python",
   "name": "python3"
  },
  "language_info": {
   "codemirror_mode": {
    "name": "ipython",
    "version": 3
   },
   "file_extension": ".py",
   "mimetype": "text/x-python",
   "name": "python",
   "nbconvert_exporter": "python",
   "pygments_lexer": "ipython3",
   "version": "3.11.5"
  }
 },
 "nbformat": 4,
 "nbformat_minor": 2
}
